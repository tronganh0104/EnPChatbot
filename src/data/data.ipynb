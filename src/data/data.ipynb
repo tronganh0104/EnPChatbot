{
 "cells": [
  {
   "cell_type": "code",
   "execution_count": 16,
   "metadata": {},
   "outputs": [],
   "source": [
    "import pandas as pd\n",
    "import os\n",
    "\n",
    "BASE_DIR = os.path.abspath(os.path.join(os.getcwd(), \"../../\"))"
   ]
  },
  {
   "cell_type": "code",
   "execution_count": 17,
   "metadata": {},
   "outputs": [],
   "source": [
    "uit_path = os.path.join(BASE_DIR, \"data/raw/uit_vsfc/data.csv\")\n",
    "path_vmteb = os.path.join(BASE_DIR, \"data/raw/VMTEB/data.csv\")\n",
    "\n",
    "vmteb_data = pd.read_csv(path_vmteb)\n",
    "uit_data = pd.read_csv(uit_path)"
   ]
  },
  {
   "cell_type": "code",
   "execution_count": 18,
   "metadata": {},
   "outputs": [
    {
     "data": {
      "text/html": [
       "<div>\n",
       "<style scoped>\n",
       "    .dataframe tbody tr th:only-of-type {\n",
       "        vertical-align: middle;\n",
       "    }\n",
       "\n",
       "    .dataframe tbody tr th {\n",
       "        vertical-align: top;\n",
       "    }\n",
       "\n",
       "    .dataframe thead th {\n",
       "        text-align: right;\n",
       "    }\n",
       "</style>\n",
       "<table border=\"1\" class=\"dataframe\">\n",
       "  <thead>\n",
       "    <tr style=\"text-align: right;\">\n",
       "      <th></th>\n",
       "      <th>Sentence</th>\n",
       "      <th>Emotion</th>\n",
       "    </tr>\n",
       "  </thead>\n",
       "  <tbody>\n",
       "    <tr>\n",
       "      <th>0</th>\n",
       "      <td>slide giáo_trình đầy_đủ .</td>\n",
       "      <td>Trung lập</td>\n",
       "    </tr>\n",
       "    <tr>\n",
       "      <th>1</th>\n",
       "      <td>nhiệt_tình giảng_dạy , gần_gũi với sinh_viên .</td>\n",
       "      <td>Vui vẻ</td>\n",
       "    </tr>\n",
       "    <tr>\n",
       "      <th>2</th>\n",
       "      <td>đi học đầy_đủ full điểm chuyên_cần .</td>\n",
       "      <td>Trung lập</td>\n",
       "    </tr>\n",
       "    <tr>\n",
       "      <th>3</th>\n",
       "      <td>chưa áp_dụng công_nghệ thông_tin và các thiết_...</td>\n",
       "      <td>Tức giận</td>\n",
       "    </tr>\n",
       "    <tr>\n",
       "      <th>4</th>\n",
       "      <td>thầy giảng bài hay , có nhiều bài_tập ví_dụ ng...</td>\n",
       "      <td>Vui vẻ</td>\n",
       "    </tr>\n",
       "    <tr>\n",
       "      <th>...</th>\n",
       "      <td>...</td>\n",
       "      <td>...</td>\n",
       "    </tr>\n",
       "    <tr>\n",
       "      <th>15993</th>\n",
       "      <td>các slide khó hiểu , ngôn_ngữ trong slide phức...</td>\n",
       "      <td>Buồn bã</td>\n",
       "    </tr>\n",
       "    <tr>\n",
       "      <th>15994</th>\n",
       "      <td>giáo_viên giảng_dạy có tâm_huyết .</td>\n",
       "      <td>Vui vẻ</td>\n",
       "    </tr>\n",
       "    <tr>\n",
       "      <th>15995</th>\n",
       "      <td>chia_sẻ cho em nhiều điều hay .</td>\n",
       "      <td>Vui vẻ</td>\n",
       "    </tr>\n",
       "    <tr>\n",
       "      <th>15996</th>\n",
       "      <td>em tiếp_thu chậm .</td>\n",
       "      <td>Trung lập</td>\n",
       "    </tr>\n",
       "    <tr>\n",
       "      <th>15997</th>\n",
       "      <td>em có_học ở một trung_tâm tiếng anh ở ngoài tr...</td>\n",
       "      <td>Trung lập</td>\n",
       "    </tr>\n",
       "  </tbody>\n",
       "</table>\n",
       "<p>15998 rows × 2 columns</p>\n",
       "</div>"
      ],
      "text/plain": [
       "                                                Sentence    Emotion\n",
       "0                              slide giáo_trình đầy_đủ .  Trung lập\n",
       "1         nhiệt_tình giảng_dạy , gần_gũi với sinh_viên .     Vui vẻ\n",
       "2                   đi học đầy_đủ full điểm chuyên_cần .  Trung lập\n",
       "3      chưa áp_dụng công_nghệ thông_tin và các thiết_...   Tức giận\n",
       "4      thầy giảng bài hay , có nhiều bài_tập ví_dụ ng...     Vui vẻ\n",
       "...                                                  ...        ...\n",
       "15993  các slide khó hiểu , ngôn_ngữ trong slide phức...    Buồn bã\n",
       "15994                 giáo_viên giảng_dạy có tâm_huyết .     Vui vẻ\n",
       "15995                    chia_sẻ cho em nhiều điều hay .     Vui vẻ\n",
       "15996                                 em tiếp_thu chậm .  Trung lập\n",
       "15997  em có_học ở một trung_tâm tiếng anh ở ngoài tr...  Trung lập\n",
       "\n",
       "[15998 rows x 2 columns]"
      ]
     },
     "execution_count": 18,
     "metadata": {},
     "output_type": "execute_result"
    }
   ],
   "source": [
    "vmteb_data"
   ]
  },
  {
   "cell_type": "code",
   "execution_count": 19,
   "metadata": {},
   "outputs": [
    {
     "data": {
      "text/html": [
       "<div>\n",
       "<style scoped>\n",
       "    .dataframe tbody tr th:only-of-type {\n",
       "        vertical-align: middle;\n",
       "    }\n",
       "\n",
       "    .dataframe tbody tr th {\n",
       "        vertical-align: top;\n",
       "    }\n",
       "\n",
       "    .dataframe thead th {\n",
       "        text-align: right;\n",
       "    }\n",
       "</style>\n",
       "<table border=\"1\" class=\"dataframe\">\n",
       "  <thead>\n",
       "    <tr style=\"text-align: right;\">\n",
       "      <th></th>\n",
       "      <th>Sentence</th>\n",
       "      <th>Emotion</th>\n",
       "    </tr>\n",
       "  </thead>\n",
       "  <tbody>\n",
       "    <tr>\n",
       "      <th>0</th>\n",
       "      <td>cho mình xin bài nhạc tên là gì với ạ</td>\n",
       "      <td>Trung lập</td>\n",
       "    </tr>\n",
       "    <tr>\n",
       "      <th>1</th>\n",
       "      <td>cho đáng đời con quỷ . về nhà lôi con nhà mày ...</td>\n",
       "      <td>Tức giận</td>\n",
       "    </tr>\n",
       "    <tr>\n",
       "      <th>2</th>\n",
       "      <td>lo học đi . yêu đương lol gì hay lại thích học...</td>\n",
       "      <td>Tức giận</td>\n",
       "    </tr>\n",
       "    <tr>\n",
       "      <th>3</th>\n",
       "      <td>uớc gì sau này về già vẫn có thể như cụ này :))</td>\n",
       "      <td>Vui vẻ</td>\n",
       "    </tr>\n",
       "    <tr>\n",
       "      <th>4</th>\n",
       "      <td>mỗi lần có video của con là cứ coi đi coi lại ...</td>\n",
       "      <td>Vui vẻ</td>\n",
       "    </tr>\n",
       "    <tr>\n",
       "      <th>...</th>\n",
       "      <td>...</td>\n",
       "      <td>...</td>\n",
       "    </tr>\n",
       "    <tr>\n",
       "      <th>6613</th>\n",
       "      <td>tự nhiên mình xem và mỉm cười theo .</td>\n",
       "      <td>Vui vẻ</td>\n",
       "    </tr>\n",
       "    <tr>\n",
       "      <th>6614</th>\n",
       "      <td>bạn ăn cơm chưa ?</td>\n",
       "      <td>Trung lập</td>\n",
       "    </tr>\n",
       "    <tr>\n",
       "      <th>6615</th>\n",
       "      <td>lúc thì cuốc đất è cổ ra không có giun mà câu ...</td>\n",
       "      <td>Buồn bã</td>\n",
       "    </tr>\n",
       "    <tr>\n",
       "      <th>6616</th>\n",
       "      <td>các bác dẫn crush qua cây sữa nay mà hứng nước...</td>\n",
       "      <td>Vui vẻ</td>\n",
       "    </tr>\n",
       "    <tr>\n",
       "      <th>6617</th>\n",
       "      <td>bep này vào binh dương dùng xuất</td>\n",
       "      <td>Trung lập</td>\n",
       "    </tr>\n",
       "  </tbody>\n",
       "</table>\n",
       "<p>6618 rows × 2 columns</p>\n",
       "</div>"
      ],
      "text/plain": [
       "                                               Sentence    Emotion\n",
       "0                 cho mình xin bài nhạc tên là gì với ạ  Trung lập\n",
       "1     cho đáng đời con quỷ . về nhà lôi con nhà mày ...   Tức giận\n",
       "2     lo học đi . yêu đương lol gì hay lại thích học...   Tức giận\n",
       "3       uớc gì sau này về già vẫn có thể như cụ này :))     Vui vẻ\n",
       "4     mỗi lần có video của con là cứ coi đi coi lại ...     Vui vẻ\n",
       "...                                                 ...        ...\n",
       "6613               tự nhiên mình xem và mỉm cười theo .     Vui vẻ\n",
       "6614                                  bạn ăn cơm chưa ?  Trung lập\n",
       "6615  lúc thì cuốc đất è cổ ra không có giun mà câu ...    Buồn bã\n",
       "6616  các bác dẫn crush qua cây sữa nay mà hứng nước...     Vui vẻ\n",
       "6617                   bep này vào binh dương dùng xuất  Trung lập\n",
       "\n",
       "[6618 rows x 2 columns]"
      ]
     },
     "execution_count": 19,
     "metadata": {},
     "output_type": "execute_result"
    }
   ],
   "source": [
    "uit_data"
   ]
  },
  {
   "cell_type": "code",
   "execution_count": 20,
   "metadata": {},
   "outputs": [],
   "source": [
    "combine_data = pd.concat([uit_data, vmteb_data], ignore_index=True)"
   ]
  },
  {
   "cell_type": "code",
   "execution_count": 21,
   "metadata": {},
   "outputs": [
    {
     "data": {
      "text/html": [
       "<div>\n",
       "<style scoped>\n",
       "    .dataframe tbody tr th:only-of-type {\n",
       "        vertical-align: middle;\n",
       "    }\n",
       "\n",
       "    .dataframe tbody tr th {\n",
       "        vertical-align: top;\n",
       "    }\n",
       "\n",
       "    .dataframe thead th {\n",
       "        text-align: right;\n",
       "    }\n",
       "</style>\n",
       "<table border=\"1\" class=\"dataframe\">\n",
       "  <thead>\n",
       "    <tr style=\"text-align: right;\">\n",
       "      <th></th>\n",
       "      <th>Sentence</th>\n",
       "      <th>Emotion</th>\n",
       "    </tr>\n",
       "  </thead>\n",
       "  <tbody>\n",
       "    <tr>\n",
       "      <th>0</th>\n",
       "      <td>cho mình xin bài nhạc tên là gì với ạ</td>\n",
       "      <td>Trung lập</td>\n",
       "    </tr>\n",
       "    <tr>\n",
       "      <th>1</th>\n",
       "      <td>cho đáng đời con quỷ . về nhà lôi con nhà mày ...</td>\n",
       "      <td>Tức giận</td>\n",
       "    </tr>\n",
       "    <tr>\n",
       "      <th>2</th>\n",
       "      <td>lo học đi . yêu đương lol gì hay lại thích học...</td>\n",
       "      <td>Tức giận</td>\n",
       "    </tr>\n",
       "    <tr>\n",
       "      <th>3</th>\n",
       "      <td>uớc gì sau này về già vẫn có thể như cụ này :))</td>\n",
       "      <td>Vui vẻ</td>\n",
       "    </tr>\n",
       "    <tr>\n",
       "      <th>4</th>\n",
       "      <td>mỗi lần có video của con là cứ coi đi coi lại ...</td>\n",
       "      <td>Vui vẻ</td>\n",
       "    </tr>\n",
       "    <tr>\n",
       "      <th>...</th>\n",
       "      <td>...</td>\n",
       "      <td>...</td>\n",
       "    </tr>\n",
       "    <tr>\n",
       "      <th>22611</th>\n",
       "      <td>các slide khó hiểu , ngôn_ngữ trong slide phức...</td>\n",
       "      <td>Buồn bã</td>\n",
       "    </tr>\n",
       "    <tr>\n",
       "      <th>22612</th>\n",
       "      <td>giáo_viên giảng_dạy có tâm_huyết .</td>\n",
       "      <td>Vui vẻ</td>\n",
       "    </tr>\n",
       "    <tr>\n",
       "      <th>22613</th>\n",
       "      <td>chia_sẻ cho em nhiều điều hay .</td>\n",
       "      <td>Vui vẻ</td>\n",
       "    </tr>\n",
       "    <tr>\n",
       "      <th>22614</th>\n",
       "      <td>em tiếp_thu chậm .</td>\n",
       "      <td>Trung lập</td>\n",
       "    </tr>\n",
       "    <tr>\n",
       "      <th>22615</th>\n",
       "      <td>em có_học ở một trung_tâm tiếng anh ở ngoài tr...</td>\n",
       "      <td>Trung lập</td>\n",
       "    </tr>\n",
       "  </tbody>\n",
       "</table>\n",
       "<p>22616 rows × 2 columns</p>\n",
       "</div>"
      ],
      "text/plain": [
       "                                                Sentence    Emotion\n",
       "0                  cho mình xin bài nhạc tên là gì với ạ  Trung lập\n",
       "1      cho đáng đời con quỷ . về nhà lôi con nhà mày ...   Tức giận\n",
       "2      lo học đi . yêu đương lol gì hay lại thích học...   Tức giận\n",
       "3        uớc gì sau này về già vẫn có thể như cụ này :))     Vui vẻ\n",
       "4      mỗi lần có video của con là cứ coi đi coi lại ...     Vui vẻ\n",
       "...                                                  ...        ...\n",
       "22611  các slide khó hiểu , ngôn_ngữ trong slide phức...    Buồn bã\n",
       "22612                 giáo_viên giảng_dạy có tâm_huyết .     Vui vẻ\n",
       "22613                    chia_sẻ cho em nhiều điều hay .     Vui vẻ\n",
       "22614                                 em tiếp_thu chậm .  Trung lập\n",
       "22615  em có_học ở một trung_tâm tiếng anh ở ngoài tr...  Trung lập\n",
       "\n",
       "[22616 rows x 2 columns]"
      ]
     },
     "execution_count": 21,
     "metadata": {},
     "output_type": "execute_result"
    }
   ],
   "source": [
    "combine_data"
   ]
  },
  {
   "cell_type": "code",
   "execution_count": 22,
   "metadata": {},
   "outputs": [],
   "source": [
    "combine_data['Emotion'] = combine_data['Emotion'].str.strip().str.replace('\"', '')\n",
    "\n",
    "combine_data['Emotion'] = combine_data['Emotion'].replace({\n",
    "    ' Vui vẻ': 'Vui vẻ',\n",
    "    ' Trung lập': 'Trung lập',\n",
    "    ' Tức giận': 'Tức giận',\n",
    "    ' Buồn bã': 'Buồn bã',\n",
    "    ' Sợ hãi': 'Sợ hãi',\n",
    "    '\"Vui vẻ\"': 'Vui vẻ',\n",
    "    '\"Tức giận\"': 'Tức giận',\n",
    "    '\"Buồn bã\"': 'Buồn bã'\n",
    "})\n"
   ]
  },
  {
   "cell_type": "code",
   "execution_count": 35,
   "metadata": {},
   "outputs": [],
   "source": [
    "data_path = os.path.join(BASE_DIR, \"data/raw/data.csv\")\n",
    "\n",
    "combine_data.to_csv(data_path, index=False)"
   ]
  },
  {
   "cell_type": "code",
   "execution_count": 37,
   "metadata": {},
   "outputs": [
    {
     "name": "stdout",
     "output_type": "stream",
     "text": [
      "Emotion\n",
      "Vui vẻ       9595\n",
      "Trung lập    5509\n",
      "Tức giận     4070\n",
      "Buồn bã      2978\n",
      "Sợ hãi       1116\n",
      "Name: count, dtype: int64\n"
     ]
    }
   ],
   "source": [
    "print(combine_data['Emotion'].value_counts())"
   ]
  },
  {
   "cell_type": "code",
   "execution_count": 38,
   "metadata": {},
   "outputs": [],
   "source": [
    "combine_data = pd.read_csv(data_path)"
   ]
  },
  {
   "cell_type": "code",
   "execution_count": 39,
   "metadata": {},
   "outputs": [
    {
     "data": {
      "text/plain": [
       "Emotion\n",
       "Vui vẻ       9595\n",
       "Trung lập    5509\n",
       "Tức giận     4070\n",
       "Buồn bã      2978\n",
       "Sợ hãi       1116\n",
       "Name: count, dtype: int64"
      ]
     },
     "execution_count": 39,
     "metadata": {},
     "output_type": "execute_result"
    }
   ],
   "source": [
    "combine_data['Emotion'].value_counts()"
   ]
  }
 ],
 "metadata": {
  "kernelspec": {
   "display_name": "Python 3",
   "language": "python",
   "name": "python3"
  },
  "language_info": {
   "codemirror_mode": {
    "name": "ipython",
    "version": 3
   },
   "file_extension": ".py",
   "mimetype": "text/x-python",
   "name": "python",
   "nbconvert_exporter": "python",
   "pygments_lexer": "ipython3",
   "version": "3.12.2"
  }
 },
 "nbformat": 4,
 "nbformat_minor": 2
}
