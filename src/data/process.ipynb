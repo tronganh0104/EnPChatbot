{
 "cells": [
  {
   "cell_type": "code",
   "execution_count": 2,
   "metadata": {},
   "outputs": [],
   "source": [
    "import pandas as pd\n",
    "import os\n",
    "\n",
    "BASE_DIR = os.path.abspath(os.path.join(os.getcwd(), \"../../\"))"
   ]
  },
  {
   "cell_type": "code",
   "execution_count": 58,
   "metadata": {},
   "outputs": [],
   "source": [
    "data_path = os.path.join(BASE_DIR, \"data/raw/data.csv\")\n",
    "\n",
    "data = pd.read_csv(data_path)"
   ]
  },
  {
   "cell_type": "code",
   "execution_count": 59,
   "metadata": {},
   "outputs": [
    {
     "data": {
      "text/html": [
       "<div>\n",
       "<style scoped>\n",
       "    .dataframe tbody tr th:only-of-type {\n",
       "        vertical-align: middle;\n",
       "    }\n",
       "\n",
       "    .dataframe tbody tr th {\n",
       "        vertical-align: top;\n",
       "    }\n",
       "\n",
       "    .dataframe thead th {\n",
       "        text-align: right;\n",
       "    }\n",
       "</style>\n",
       "<table border=\"1\" class=\"dataframe\">\n",
       "  <thead>\n",
       "    <tr style=\"text-align: right;\">\n",
       "      <th></th>\n",
       "      <th>Sentence</th>\n",
       "      <th>Emotion</th>\n",
       "    </tr>\n",
       "  </thead>\n",
       "  <tbody>\n",
       "    <tr>\n",
       "      <th>0</th>\n",
       "      <td>cho tao hỏi lúa nó dính mưa vầy ròi thì làm đư...</td>\n",
       "      <td>Trung lập</td>\n",
       "    </tr>\n",
       "    <tr>\n",
       "      <th>1</th>\n",
       "      <td>giảng_viên dạy tận_tình , cung_cấp đầy_đủ kiến...</td>\n",
       "      <td>Vui vẻ</td>\n",
       "    </tr>\n",
       "    <tr>\n",
       "      <th>2</th>\n",
       "      <td>per không bao giờ quên được hihi</td>\n",
       "      <td>Vui vẻ</td>\n",
       "    </tr>\n",
       "    <tr>\n",
       "      <th>3</th>\n",
       "      <td>thầy rất nhiệt_tình , quan_tâm sinh_viên , tr...</td>\n",
       "      <td>Vui vẻ</td>\n",
       "    </tr>\n",
       "    <tr>\n",
       "      <th>4</th>\n",
       "      <td>giảng_dạy dễ hiểu, vui_vẻ.</td>\n",
       "      <td>Vui vẻ</td>\n",
       "    </tr>\n",
       "    <tr>\n",
       "      <th>...</th>\n",
       "      <td>...</td>\n",
       "      <td>...</td>\n",
       "    </tr>\n",
       "    <tr>\n",
       "      <th>28731</th>\n",
       "      <td>thầy rất nhiệt_tình ạ .</td>\n",
       "      <td>Vui vẻ</td>\n",
       "    </tr>\n",
       "    <tr>\n",
       "      <th>28732</th>\n",
       "      <td>thầy cho slide , textbook , bài_tập để nghiên_...</td>\n",
       "      <td>Vui vẻ</td>\n",
       "    </tr>\n",
       "    <tr>\n",
       "      <th>28733</th>\n",
       "      <td>tận_tâm hướng_dẫn sinh_viên .</td>\n",
       "      <td>Vui vẻ</td>\n",
       "    </tr>\n",
       "    <tr>\n",
       "      <th>28734</th>\n",
       "      <td>em thích đi học tiết của thầy nhất .</td>\n",
       "      <td>Vui vẻ</td>\n",
       "    </tr>\n",
       "    <tr>\n",
       "      <th>28735</th>\n",
       "      <td>truyền_đạt hơi kém .</td>\n",
       "      <td>Tức giận</td>\n",
       "    </tr>\n",
       "  </tbody>\n",
       "</table>\n",
       "<p>28736 rows × 2 columns</p>\n",
       "</div>"
      ],
      "text/plain": [
       "                                                Sentence    Emotion\n",
       "0      cho tao hỏi lúa nó dính mưa vầy ròi thì làm đư...  Trung lập\n",
       "1      giảng_viên dạy tận_tình , cung_cấp đầy_đủ kiến...     Vui vẻ\n",
       "2                       per không bao giờ quên được hihi     Vui vẻ\n",
       "3       thầy rất nhiệt_tình , quan_tâm sinh_viên , tr...     Vui vẻ\n",
       "4                             giảng_dạy dễ hiểu, vui_vẻ.     Vui vẻ\n",
       "...                                                  ...        ...\n",
       "28731                            thầy rất nhiệt_tình ạ .     Vui vẻ\n",
       "28732  thầy cho slide , textbook , bài_tập để nghiên_...     Vui vẻ\n",
       "28733                      tận_tâm hướng_dẫn sinh_viên .     Vui vẻ\n",
       "28734               em thích đi học tiết của thầy nhất .     Vui vẻ\n",
       "28735                               truyền_đạt hơi kém .   Tức giận\n",
       "\n",
       "[28736 rows x 2 columns]"
      ]
     },
     "execution_count": 59,
     "metadata": {},
     "output_type": "execute_result"
    }
   ],
   "source": [
    "data"
   ]
  },
  {
   "cell_type": "code",
   "execution_count": 61,
   "metadata": {},
   "outputs": [],
   "source": [
    "data['Emotion'] = data['Emotion'].str.strip().str.replace('\"', '')\n",
    "\n",
    "data['Emotion'] = data['Emotion'].replace({\n",
    "    ' Vui vẻ': 'Vui vẻ',\n",
    "    ' Trung lập': 'Trung lập',\n",
    "    ' Tức giận': 'Tức giận',\n",
    "    ' Buồn bã': 'Buồn bã',\n",
    "    ' Sợ hãi': 'Sợ hãi',\n",
    "    '\"Vui vẻ\"': 'Vui vẻ',\n",
    "    '\"Tức giận\"': 'Tức giận',\n",
    "    '\"Buồn bã\"': 'Buồn bã',\n",
    "    '\"Sợ hãi\"': 'Sợ hãi'\n",
    "})"
   ]
  },
  {
   "cell_type": "code",
   "execution_count": 62,
   "metadata": {},
   "outputs": [
    {
     "data": {
      "text/plain": [
       "Emotion\n",
       "Vui vẻ       9595\n",
       "Trung lập    5509\n",
       "Sợ hãi       5203\n",
       "Tức giận     4255\n",
       "Buồn bã      4174\n",
       "Name: count, dtype: int64"
      ]
     },
     "execution_count": 62,
     "metadata": {},
     "output_type": "execute_result"
    }
   ],
   "source": [
    "data['Emotion'].value_counts()"
   ]
  },
  {
   "cell_type": "code",
   "execution_count": 63,
   "metadata": {},
   "outputs": [],
   "source": [
    "data_path = os.path.join(BASE_DIR, \"data/raw/data.csv\")\n",
    "\n",
    "data.to_csv(data_path, index=False)"
   ]
  },
  {
   "cell_type": "code",
   "execution_count": 64,
   "metadata": {},
   "outputs": [],
   "source": [
    "df_shuffled = data.sample(frac=1, random_state=42).reset_index(drop=True)\n",
    "\n",
    "data_suffled_path = os.path.join(BASE_DIR, \"data/raw/data.csv\")\n",
    "\n",
    "df_shuffled.to_csv(data_suffled_path, index=False)"
   ]
  },
  {
   "cell_type": "code",
   "execution_count": 65,
   "metadata": {},
   "outputs": [
    {
     "data": {
      "text/plain": [
       "Emotion\n",
       "Vui vẻ       9595\n",
       "Trung lập    5509\n",
       "Sợ hãi       5203\n",
       "Tức giận     4255\n",
       "Buồn bã      4174\n",
       "Name: count, dtype: int64"
      ]
     },
     "execution_count": 65,
     "metadata": {},
     "output_type": "execute_result"
    }
   ],
   "source": [
    "data = pd.read_csv(data_path)\n",
    "data['Emotion'].value_counts()"
   ]
  },
  {
   "cell_type": "markdown",
   "metadata": {},
   "source": [
    "# Chuẩn hóa nhãn thành sốsố"
   ]
  },
  {
   "cell_type": "code",
   "execution_count": 66,
   "metadata": {},
   "outputs": [
    {
     "data": {
      "text/html": [
       "<div>\n",
       "<style scoped>\n",
       "    .dataframe tbody tr th:only-of-type {\n",
       "        vertical-align: middle;\n",
       "    }\n",
       "\n",
       "    .dataframe tbody tr th {\n",
       "        vertical-align: top;\n",
       "    }\n",
       "\n",
       "    .dataframe thead th {\n",
       "        text-align: right;\n",
       "    }\n",
       "</style>\n",
       "<table border=\"1\" class=\"dataframe\">\n",
       "  <thead>\n",
       "    <tr style=\"text-align: right;\">\n",
       "      <th></th>\n",
       "      <th>Sentence</th>\n",
       "      <th>Label</th>\n",
       "    </tr>\n",
       "  </thead>\n",
       "  <tbody>\n",
       "    <tr>\n",
       "      <th>0</th>\n",
       "      <td>bên cạnh đó còn có rèn kỹ_năng viết , kỹ_năng ...</td>\n",
       "      <td>0</td>\n",
       "    </tr>\n",
       "    <tr>\n",
       "      <th>1</th>\n",
       "      <td>nhiệt_tình , dễ hiểu , đúng giờ .</td>\n",
       "      <td>0</td>\n",
       "    </tr>\n",
       "    <tr>\n",
       "      <th>2</th>\n",
       "      <td>những gì được học nó nhằm mục_đích gì ?</td>\n",
       "      <td>4</td>\n",
       "    </tr>\n",
       "    <tr>\n",
       "      <th>3</th>\n",
       "      <td>xinh quá !</td>\n",
       "      <td>0</td>\n",
       "    </tr>\n",
       "    <tr>\n",
       "      <th>4</th>\n",
       "      <td>giảng_viên rất vui_vẻ , thân_thiện , nhiệt_tìn...</td>\n",
       "      <td>0</td>\n",
       "    </tr>\n",
       "    <tr>\n",
       "      <th>...</th>\n",
       "      <td>...</td>\n",
       "      <td>...</td>\n",
       "    </tr>\n",
       "    <tr>\n",
       "      <th>28731</th>\n",
       "      <td>chất_lượng môn_học phù_hợp .</td>\n",
       "      <td>0</td>\n",
       "    </tr>\n",
       "    <tr>\n",
       "      <th>28732</th>\n",
       "      <td>tao bực mày lắm rồi đấy</td>\n",
       "      <td>1</td>\n",
       "    </tr>\n",
       "    <tr>\n",
       "      <th>28733</th>\n",
       "      <td>per anh ơi đừng gym nữa . boxing là đụ rùi :((</td>\n",
       "      <td>2</td>\n",
       "    </tr>\n",
       "    <tr>\n",
       "      <th>28734</th>\n",
       "      <td>thầy dạy vui lắm .</td>\n",
       "      <td>0</td>\n",
       "    </tr>\n",
       "    <tr>\n",
       "      <th>28735</th>\n",
       "      <td>giáo_viên giảng_dạy dễ hiểu và tận_tâm .</td>\n",
       "      <td>0</td>\n",
       "    </tr>\n",
       "  </tbody>\n",
       "</table>\n",
       "<p>28736 rows × 2 columns</p>\n",
       "</div>"
      ],
      "text/plain": [
       "                                                Sentence  Label\n",
       "0      bên cạnh đó còn có rèn kỹ_năng viết , kỹ_năng ...      0\n",
       "1                      nhiệt_tình , dễ hiểu , đúng giờ .      0\n",
       "2                những gì được học nó nhằm mục_đích gì ?      4\n",
       "3                                             xinh quá !      0\n",
       "4      giảng_viên rất vui_vẻ , thân_thiện , nhiệt_tìn...      0\n",
       "...                                                  ...    ...\n",
       "28731                       chất_lượng môn_học phù_hợp .      0\n",
       "28732                            tao bực mày lắm rồi đấy      1\n",
       "28733     per anh ơi đừng gym nữa . boxing là đụ rùi :((      2\n",
       "28734                                 thầy dạy vui lắm .      0\n",
       "28735           giáo_viên giảng_dạy dễ hiểu và tận_tâm .      0\n",
       "\n",
       "[28736 rows x 2 columns]"
      ]
     },
     "execution_count": 66,
     "metadata": {},
     "output_type": "execute_result"
    }
   ],
   "source": [
    "label_mapping = {\n",
    "    \"Vui vẻ\": 0,\n",
    "    \"Tức giận\": 1,\n",
    "    \"Buồn bã\": 2,\n",
    "    \"Sợ hãi\": 3,\n",
    "    \"Trung lập\": 4\n",
    "}\n",
    "\n",
    "data[\"Label\"] = data[\"Emotion\"].map(label_mapping)\n",
    "data = data.drop(columns=[\"Emotion\"])\n",
    "data\n"
   ]
  },
  {
   "cell_type": "markdown",
   "metadata": {},
   "source": [
    "# Loại bỏ ký tự đặc biệt, số và khoảng trắng thừa "
   ]
  },
  {
   "cell_type": "code",
   "execution_count": 67,
   "metadata": {},
   "outputs": [
    {
     "data": {
      "text/html": [
       "<div>\n",
       "<style scoped>\n",
       "    .dataframe tbody tr th:only-of-type {\n",
       "        vertical-align: middle;\n",
       "    }\n",
       "\n",
       "    .dataframe tbody tr th {\n",
       "        vertical-align: top;\n",
       "    }\n",
       "\n",
       "    .dataframe thead th {\n",
       "        text-align: right;\n",
       "    }\n",
       "</style>\n",
       "<table border=\"1\" class=\"dataframe\">\n",
       "  <thead>\n",
       "    <tr style=\"text-align: right;\">\n",
       "      <th></th>\n",
       "      <th>Sentence</th>\n",
       "      <th>Label</th>\n",
       "    </tr>\n",
       "  </thead>\n",
       "  <tbody>\n",
       "    <tr>\n",
       "      <th>0</th>\n",
       "      <td>bên cạnh đó còn có rèn kỹ_năng viết  kỹ_năng h...</td>\n",
       "      <td>0</td>\n",
       "    </tr>\n",
       "    <tr>\n",
       "      <th>1</th>\n",
       "      <td>nhiệt_tình  dễ hiểu  đúng giờ</td>\n",
       "      <td>0</td>\n",
       "    </tr>\n",
       "    <tr>\n",
       "      <th>2</th>\n",
       "      <td>những gì được học nó nhằm mục_đích gì</td>\n",
       "      <td>4</td>\n",
       "    </tr>\n",
       "    <tr>\n",
       "      <th>3</th>\n",
       "      <td>xinh quá</td>\n",
       "      <td>0</td>\n",
       "    </tr>\n",
       "    <tr>\n",
       "      <th>4</th>\n",
       "      <td>giảng_viên rất vui_vẻ  thân_thiện  nhiệt_tình ...</td>\n",
       "      <td>0</td>\n",
       "    </tr>\n",
       "    <tr>\n",
       "      <th>...</th>\n",
       "      <td>...</td>\n",
       "      <td>...</td>\n",
       "    </tr>\n",
       "    <tr>\n",
       "      <th>28731</th>\n",
       "      <td>chất_lượng môn_học phù_hợp</td>\n",
       "      <td>0</td>\n",
       "    </tr>\n",
       "    <tr>\n",
       "      <th>28732</th>\n",
       "      <td>tao bực mày lắm rồi đấy</td>\n",
       "      <td>1</td>\n",
       "    </tr>\n",
       "    <tr>\n",
       "      <th>28733</th>\n",
       "      <td>per anh ơi đừng gym nữa  boxing là đụ rùi</td>\n",
       "      <td>2</td>\n",
       "    </tr>\n",
       "    <tr>\n",
       "      <th>28734</th>\n",
       "      <td>thầy dạy vui lắm</td>\n",
       "      <td>0</td>\n",
       "    </tr>\n",
       "    <tr>\n",
       "      <th>28735</th>\n",
       "      <td>giáo_viên giảng_dạy dễ hiểu và tận_tâm</td>\n",
       "      <td>0</td>\n",
       "    </tr>\n",
       "  </tbody>\n",
       "</table>\n",
       "<p>28736 rows × 2 columns</p>\n",
       "</div>"
      ],
      "text/plain": [
       "                                                Sentence  Label\n",
       "0      bên cạnh đó còn có rèn kỹ_năng viết  kỹ_năng h...      0\n",
       "1                         nhiệt_tình  dễ hiểu  đúng giờ       0\n",
       "2                 những gì được học nó nhằm mục_đích gì       4\n",
       "3                                              xinh quá       0\n",
       "4      giảng_viên rất vui_vẻ  thân_thiện  nhiệt_tình ...      0\n",
       "...                                                  ...    ...\n",
       "28731                        chất_lượng môn_học phù_hợp       0\n",
       "28732                            tao bực mày lắm rồi đấy      1\n",
       "28733         per anh ơi đừng gym nữa  boxing là đụ rùi       2\n",
       "28734                                  thầy dạy vui lắm       0\n",
       "28735            giáo_viên giảng_dạy dễ hiểu và tận_tâm       0\n",
       "\n",
       "[28736 rows x 2 columns]"
      ]
     },
     "execution_count": 67,
     "metadata": {},
     "output_type": "execute_result"
    }
   ],
   "source": [
    "import re\n",
    "\n",
    "def clean_text(text):\n",
    "    text = re.sub(r\"\\d+\", \"\", text)\n",
    "    text = re.sub(r\"\\s+\", \" \", text).strip()\n",
    "    text = re.sub(r\"[^\\w\\s]\", \"\", text)\n",
    "    return text\n",
    "\n",
    "data[\"Sentence\"] = data[\"Sentence\"].astype(str).apply(clean_text)\n",
    "data"
   ]
  },
  {
   "cell_type": "markdown",
   "metadata": {},
   "source": [
    "# Tokenize"
   ]
  },
  {
   "cell_type": "code",
   "execution_count": 68,
   "metadata": {},
   "outputs": [
    {
     "name": "stderr",
     "output_type": "stream",
     "text": [
      "e:\\Python\\Python312\\Lib\\site-packages\\tqdm\\auto.py:21: TqdmWarning: IProgress not found. Please update jupyter and ipywidgets. See https://ipywidgets.readthedocs.io/en/stable/user_install.html\n",
      "  from .autonotebook import tqdm as notebook_tqdm\n"
     ]
    },
    {
     "name": "stdout",
     "output_type": "stream",
     "text": [
      "Merged Tokens: ['Tôi', 'cảm_thấy', 'cô_đơn', 'trong', 'cuộc_sống', 'này']\n"
     ]
    }
   ],
   "source": [
    "import torch\n",
    "from torch.utils.data import TensorDataset\n",
    "from transformers import AutoTokenizer\n",
    "from underthesea import word_tokenize\n",
    "from pyvi import ViTokenizer\n",
    "\n",
    "def hybrid_tokenize(text):\n",
    "    underthesea_tokens = word_tokenize(text, format=\"text\").split() \n",
    "    pyvi_tokens = ViTokenizer.tokenize(text).split()\n",
    "    \n",
    "    merged_tokens = []\n",
    "    \n",
    "    i, j = 0, 0\n",
    "    while i < len(underthesea_tokens) and j < len(pyvi_tokens):\n",
    "        ut_token = underthesea_tokens[i]\n",
    "        pv_token = pyvi_tokens[j]\n",
    "\n",
    "        if ut_token == pv_token:\n",
    "            merged_tokens.append(ut_token)\n",
    "            i += 1\n",
    "            j += 1\n",
    "        else:\n",
    "            if len(ut_token) >= len(pv_token):\n",
    "                merged_tokens.append(ut_token)\n",
    "                i += 1\n",
    "                j += len(pv_token.split('_'))\n",
    "            else:\n",
    "                merged_tokens.append(pv_token)\n",
    "                j += 1\n",
    "                i += len(ut_token.split('_'))\n",
    "    \n",
    "    merged_tokens += underthesea_tokens[i+1:] + pyvi_tokens[j+1:]\n",
    "    return merged_tokens\n",
    "\n",
    "text = \"Tôi cảm thấy cô đơn trong cuộc sống này\"\n",
    "merged_tokens = hybrid_tokenize(text)\n",
    "print(\"Merged Tokens:\", merged_tokens)\n"
   ]
  },
  {
   "cell_type": "code",
   "execution_count": 69,
   "metadata": {},
   "outputs": [
    {
     "name": "stderr",
     "output_type": "stream",
     "text": [
      "C:\\Users\\TGDD\\AppData\\Local\\Temp\\ipykernel_17148\\2482918352.py:19: UserWarning: To copy construct from a tensor, it is recommended to use sourceTensor.clone().detach() or sourceTensor.clone().detach().requires_grad_(True), rather than torch.tensor(sourceTensor).\n",
      "  input_ids = torch.stack([torch.tensor(tokens) for tokens in tokenized_texts])\n",
      "C:\\Users\\TGDD\\AppData\\Local\\Temp\\ipykernel_17148\\2482918352.py:20: UserWarning: To copy construct from a tensor, it is recommended to use sourceTensor.clone().detach() or sourceTensor.clone().detach().requires_grad_(True), rather than torch.tensor(sourceTensor).\n",
      "  attention_mask = torch.stack([torch.tensor(mask) for mask in attention_masks])\n"
     ]
    }
   ],
   "source": [
    "from sklearn.model_selection import train_test_split\n",
    "\n",
    "tokenizer = AutoTokenizer.from_pretrained(\"vinai/phobert-base\")\n",
    "\n",
    "def tokenize_data(df):\n",
    "    tokenized_texts = []\n",
    "    attention_masks = []\n",
    "    labels = []\n",
    "    \n",
    "    for index, row in df.iterrows():\n",
    "        text = row['Sentence'] \n",
    "        label = row['Label']  \n",
    "        merged_tokens = hybrid_tokenize(text)\n",
    "        encoding = tokenizer(' '.join(merged_tokens), truncation=True, padding=\"max_length\", max_length=256, return_tensors=\"pt\")\n",
    "        tokenized_texts.append(encoding[\"input_ids\"][0])\n",
    "        attention_masks.append(encoding[\"attention_mask\"][0])  \n",
    "        labels.append(label)\n",
    "\n",
    "    input_ids = torch.stack([torch.tensor(tokens) for tokens in tokenized_texts])\n",
    "    attention_mask = torch.stack([torch.tensor(mask) for mask in attention_masks]) \n",
    "    labels = torch.tensor(labels)\n",
    "    \n",
    "    return TensorDataset(input_ids, attention_mask, labels)\n",
    "\n",
    "train_df, test_df = train_test_split(data, test_size=0.2, stratify=data[\"Label\"], random_state=42)\n",
    "valid_df, test_df = train_test_split(test_df, test_size=0.5, stratify=test_df[\"Label\"], random_state=42)\n",
    "\n",
    "train_data = tokenize_data(train_df)\n",
    "valid_data = tokenize_data(valid_df)\n",
    "test_data = tokenize_data(test_df)\n",
    "\n",
    "output_dir = os.path.join(BASE_DIR, \"data/processed\")\n",
    "os.makedirs(output_dir, exist_ok=True)\n",
    "\n",
    "torch.save(train_data, os.path.join(output_dir, \"train.pt\"))\n",
    "torch.save(valid_data, os.path.join(output_dir, \"valid.pt\"))\n",
    "torch.save(test_data, os.path.join(output_dir, \"test.pt\"))"
   ]
  }
 ],
 "metadata": {
  "kernelspec": {
   "display_name": "Python 3",
   "language": "python",
   "name": "python3"
  },
  "language_info": {
   "codemirror_mode": {
    "name": "ipython",
    "version": 3
   },
   "file_extension": ".py",
   "mimetype": "text/x-python",
   "name": "python",
   "nbconvert_exporter": "python",
   "pygments_lexer": "ipython3",
   "version": "3.12.2"
  }
 },
 "nbformat": 4,
 "nbformat_minor": 2
}
