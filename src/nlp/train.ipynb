{
 "cells": [
  {
   "cell_type": "code",
   "execution_count": 2,
   "metadata": {
    "execution": {
     "iopub.execute_input": "2025-03-21T08:00:03.991692Z",
     "iopub.status.busy": "2025-03-21T08:00:03.991392Z",
     "iopub.status.idle": "2025-03-21T08:00:07.356661Z",
     "shell.execute_reply": "2025-03-21T08:00:07.355561Z",
     "shell.execute_reply.started": "2025-03-21T08:00:03.991668Z"
    },
    "trusted": true
   },
   "outputs": [],
   "source": [
    "!pip install -q transformers datasets torch\n"
   ]
  },
  {
   "cell_type": "code",
   "execution_count": 1,
   "metadata": {
    "execution": {
     "iopub.execute_input": "2025-03-24T12:09:45.988030Z",
     "iopub.status.busy": "2025-03-24T12:09:45.987727Z",
     "iopub.status.idle": "2025-03-24T12:09:53.632356Z",
     "shell.execute_reply": "2025-03-24T12:09:53.631702Z",
     "shell.execute_reply.started": "2025-03-24T12:09:45.988003Z"
    },
    "trusted": true
   },
   "outputs": [],
   "source": [
    "import os\n",
    "import torch\n",
    "import torch.nn as nn\n",
    "import torch.optim as optim\n",
    "import torch.nn.functional as F\n",
    "from torch.utils.data import DataLoader\n",
    "from transformers import AutoModel, AutoTokenizer, get_scheduler\n",
    "from tqdm import tqdm\n",
    "import numpy as np\n",
    "from sklearn.metrics import classification_report"
   ]
  },
  {
   "cell_type": "code",
   "execution_count": 2,
   "metadata": {
    "execution": {
     "iopub.execute_input": "2025-03-24T12:09:57.260216Z",
     "iopub.status.busy": "2025-03-24T12:09:57.259798Z",
     "iopub.status.idle": "2025-03-24T12:09:57.263969Z",
     "shell.execute_reply": "2025-03-24T12:09:57.263061Z",
     "shell.execute_reply.started": "2025-03-24T12:09:57.260193Z"
    },
    "trusted": true
   },
   "outputs": [],
   "source": [
    "import warnings\n",
    "warnings.filterwarnings(\"ignore\", category=FutureWarning)\n"
   ]
  },
  {
   "cell_type": "code",
   "execution_count": 3,
   "metadata": {
    "execution": {
     "iopub.execute_input": "2025-03-24T12:09:58.850422Z",
     "iopub.status.busy": "2025-03-24T12:09:58.850130Z",
     "iopub.status.idle": "2025-03-24T12:09:59.397024Z",
     "shell.execute_reply": "2025-03-24T12:09:59.396130Z",
     "shell.execute_reply.started": "2025-03-24T12:09:58.850399Z"
    },
    "trusted": true
   },
   "outputs": [],
   "source": [
    "train_data = torch.load(\"/kaggle/input/enpchatbot/train.pt\")\n",
    "valid_data = torch.load(\"/kaggle/input/enpchatbot/valid.pt\")\n",
    "test_data = torch.load(\"/kaggle/input/enpchatbot/test.pt\")\n",
    "\n",
    "train_loader = DataLoader(train_data, batch_size=32, shuffle=True)\n",
    "valid_loader = DataLoader(valid_data, batch_size=32, shuffle=False)\n",
    "test_loader = DataLoader(test_data, batch_size=32, shuffle=False)"
   ]
  },
  {
   "cell_type": "code",
   "execution_count": 4,
   "metadata": {
    "execution": {
     "iopub.execute_input": "2025-03-24T12:10:01.202915Z",
     "iopub.status.busy": "2025-03-24T12:10:01.202562Z",
     "iopub.status.idle": "2025-03-24T12:10:17.482344Z",
     "shell.execute_reply": "2025-03-24T12:10:17.480842Z",
     "shell.execute_reply.started": "2025-03-24T12:10:01.202891Z"
    },
    "trusted": true
   },
   "outputs": [
    {
     "data": {
      "application/vnd.jupyter.widget-view+json": {
       "model_id": "cb9eb64d03ec4073a593831c26c82ed6",
       "version_major": 2,
       "version_minor": 0
      },
      "text/plain": [
       "config.json:   0%|          | 0.00/557 [00:00<?, ?B/s]"
      ]
     },
     "metadata": {},
     "output_type": "display_data"
    },
    {
     "data": {
      "application/vnd.jupyter.widget-view+json": {
       "model_id": "1dd83dbf62cb4c5eb3b5f44d45b83fe5",
       "version_major": 2,
       "version_minor": 0
      },
      "text/plain": [
       "pytorch_model.bin:   0%|          | 0.00/543M [00:00<?, ?B/s]"
      ]
     },
     "metadata": {},
     "output_type": "display_data"
    }
   ],
   "source": [
    "class PhoBERTClassifier(nn.Module):\n",
    "    def __init__(self, num_classes=5):\n",
    "        super(PhoBERTClassifier, self).__init__()\n",
    "        self.phobert = AutoModel.from_pretrained(\"vinai/phobert-base\")\n",
    "        self.dropout = nn.Dropout(0.3)\n",
    "        self.classifier = nn.Linear(self.phobert.config.hidden_size, num_classes)\n",
    "\n",
    "    def forward(self, input_ids, attention_mask):\n",
    "        outputs = self.phobert(input_ids=input_ids, attention_mask=attention_mask)\n",
    "        pooled_output = outputs.last_hidden_state[:, 0, :]  # Lấy vector CLS\n",
    "        logits = self.classifier(self.dropout(pooled_output))\n",
    "        return logits\n",
    "\n",
    "device = torch.device(\"cuda\" if torch.cuda.is_available() else \"cpu\")\n",
    "model = PhoBERTClassifier().to(device)"
   ]
  },
  {
   "cell_type": "code",
   "execution_count": 5,
   "metadata": {
    "execution": {
     "iopub.execute_input": "2025-03-24T12:10:22.114656Z",
     "iopub.status.busy": "2025-03-24T12:10:22.112862Z",
     "iopub.status.idle": "2025-03-24T12:10:22.123078Z",
     "shell.execute_reply": "2025-03-24T12:10:22.122253Z",
     "shell.execute_reply.started": "2025-03-24T12:10:22.114605Z"
    },
    "trusted": true
   },
   "outputs": [],
   "source": [
    "class FocalLoss(nn.Module):\n",
    "    def __init__(self, alpha=None, gamma=2.0, reduction=\"mean\"):\n",
    "        super(FocalLoss, self).__init__()\n",
    "        self.alpha = alpha.to(device) if alpha is not None else None\n",
    "        self.gamma = gamma\n",
    "        self.reduction = reduction\n",
    "\n",
    "    def forward(self, inputs, targets):\n",
    "        ce_loss = F.cross_entropy(inputs, targets, reduction=\"none\")\n",
    "        pt = torch.exp(-ce_loss)\n",
    "        focal_loss = (1 - pt) ** self.gamma * ce_loss\n",
    "\n",
    "        if self.alpha is not None:\n",
    "            focal_loss *= self.alpha[targets]\n",
    "\n",
    "        if self.reduction == \"mean\":\n",
    "            return focal_loss.mean()\n",
    "        elif self.reduction == \"sum\":\n",
    "            return focal_loss.sum()\n",
    "        return focal_loss\n",
    "\n",
    "alpha = torch.tensor([2.32, 5.47, 7.47, 19.94, 4.04]).to(device) \n",
    "loss_fn = FocalLoss(alpha=alpha)"
   ]
  },
  {
   "cell_type": "code",
   "execution_count": 6,
   "metadata": {
    "execution": {
     "iopub.execute_input": "2025-03-24T12:10:25.008824Z",
     "iopub.status.busy": "2025-03-24T12:10:25.008390Z",
     "iopub.status.idle": "2025-03-24T12:10:25.019166Z",
     "shell.execute_reply": "2025-03-24T12:10:25.017775Z",
     "shell.execute_reply.started": "2025-03-24T12:10:25.008792Z"
    },
    "trusted": true
   },
   "outputs": [],
   "source": [
    "optimizer = optim.AdamW(model.parameters(), lr=2e-5, weight_decay=0.01)\n",
    "scheduler = get_scheduler(\"cosine\", optimizer=optimizer, num_warmup_steps=100, num_training_steps=len(train_loader) * 5)"
   ]
  },
  {
   "cell_type": "code",
   "execution_count": 7,
   "metadata": {
    "execution": {
     "iopub.execute_input": "2025-03-24T12:10:27.024920Z",
     "iopub.status.busy": "2025-03-24T12:10:27.024610Z",
     "iopub.status.idle": "2025-03-24T12:10:27.034900Z",
     "shell.execute_reply": "2025-03-24T12:10:27.033898Z",
     "shell.execute_reply.started": "2025-03-24T12:10:27.024898Z"
    },
    "trusted": true
   },
   "outputs": [],
   "source": [
    "def train_model(model, train_loader, valid_loader, loss_fn, optimizer, scheduler, num_epochs=5):\n",
    "    best_accuracy = 0.0\n",
    "    for epoch in range(num_epochs):\n",
    "        model.train()\n",
    "        total_loss, correct, total = 0, 0, 0\n",
    "        \n",
    "        for batch in tqdm(train_loader, desc=f\"Epoch {epoch+1}\"):\n",
    "            input_ids, labels = batch\n",
    "            input_ids, labels = input_ids.to(device), labels.to(device)\n",
    "\n",
    "            optimizer.zero_grad()\n",
    "            logits = model(input_ids, attention_mask=(input_ids != 1))\n",
    "            loss = loss_fn(logits, labels)\n",
    "            loss.backward()\n",
    "            optimizer.step()\n",
    "            scheduler.step()\n",
    "\n",
    "            total_loss += loss.item()\n",
    "            correct += (logits.argmax(dim=1) == labels).sum().item()\n",
    "            total += labels.size(0)\n",
    "\n",
    "        train_acc = correct / total\n",
    "        valid_acc = evaluate(model, valid_loader)\n",
    "        print(f\"Epoch {epoch+1}: Train Loss: {total_loss/len(train_loader):.4f}, Train Acc: {train_acc:.4f}, Valid Acc: {valid_acc:.4f}\")\n",
    "\n",
    "        if valid_acc > best_accuracy:\n",
    "            best_accuracy = valid_acc\n",
    "            torch.save(model.state_dict(), \"best_model.pt\")  # Lưu model tốt nhất\n",
    "\n",
    "def evaluate(model, valid_loader):\n",
    "    model.eval()\n",
    "    correct, total = 0, 0\n",
    "    all_preds, all_labels = [], []\n",
    "    \n",
    "    with torch.no_grad():\n",
    "        for batch in valid_loader:\n",
    "            input_ids, labels = batch\n",
    "            input_ids, labels = input_ids.to(device), labels.to(device)\n",
    "\n",
    "            logits = model(input_ids, attention_mask=(input_ids != 1))\n",
    "            preds = logits.argmax(dim=1)\n",
    "\n",
    "            correct += (preds == labels).sum().item()\n",
    "            total += labels.size(0)\n",
    "\n",
    "            all_preds.extend(preds.cpu().numpy())\n",
    "            all_labels.extend(labels.cpu().numpy())\n",
    "\n",
    "    print(\"\\nClassification Report:\\n\", classification_report(all_labels, all_preds, target_names=[\"Vui vẻ\", \"Tức giận\", \"Buồn bã\", \"Sợ hãi\", \"Trung lập\"]))\n",
    "    return correct / total"
   ]
  },
  {
   "cell_type": "code",
   "execution_count": 9,
   "metadata": {
    "execution": {
     "iopub.execute_input": "2025-03-22T18:00:01.751469Z",
     "iopub.status.busy": "2025-03-22T18:00:01.751072Z",
     "iopub.status.idle": "2025-03-22T18:00:36.199110Z",
     "shell.execute_reply": "2025-03-22T18:00:36.198103Z",
     "shell.execute_reply.started": "2025-03-22T18:00:01.751424Z"
    },
    "trusted": true
   },
   "outputs": [
    {
     "name": "stdout",
     "output_type": "stream",
     "text": [
      "\n",
      "Testing on test set...\n",
      "\n",
      "Classification Report:\n",
      "               precision    recall  f1-score   support\n",
      "\n",
      "      Vui vẻ       0.92      0.92      0.92       960\n",
      "    Tức giận       0.57      0.65      0.61       407\n",
      "     Buồn bã       0.56      0.56      0.56       298\n",
      "      Sợ hãi       0.76      0.89      0.82       111\n",
      "   Trung lập       0.74      0.63      0.68       551\n",
      "\n",
      "    accuracy                           0.76      2327\n",
      "   macro avg       0.71      0.73      0.72      2327\n",
      "weighted avg       0.76      0.76      0.76      2327\n",
      "\n",
      "Test Accuracy: 0.7568\n"
     ]
    }
   ],
   "source": [
    "print(\"\\nTesting on test set...\")\n",
    "model.load_state_dict(torch.load(\"best_model.pt\"))  # Load model tốt nhất\n",
    "test_acc = evaluate(model, test_loader)\n",
    "print(f\"Test Accuracy: {test_acc:.4f}\")"
   ]
  },
  {
   "cell_type": "code",
   "execution_count": 10,
   "metadata": {
    "execution": {
     "iopub.execute_input": "2025-03-22T18:01:12.183389Z",
     "iopub.status.busy": "2025-03-22T18:01:12.183044Z",
     "iopub.status.idle": "2025-03-22T18:01:13.063248Z",
     "shell.execute_reply": "2025-03-22T18:01:13.062520Z",
     "shell.execute_reply.started": "2025-03-22T18:01:12.183360Z"
    },
    "trusted": true
   },
   "outputs": [],
   "source": [
    "torch.save(model, \"/kaggle/working/final_model_full.pth\")"
   ]
  },
  {
   "cell_type": "code",
   "execution_count": 8,
   "metadata": {
    "execution": {
     "iopub.execute_input": "2025-03-24T12:10:37.790323Z",
     "iopub.status.busy": "2025-03-24T12:10:37.790008Z",
     "iopub.status.idle": "2025-03-24T12:49:58.867417Z",
     "shell.execute_reply": "2025-03-24T12:49:58.866426Z",
     "shell.execute_reply.started": "2025-03-24T12:10:37.790291Z"
    },
    "trusted": true
   },
   "outputs": [
    {
     "name": "stderr",
     "output_type": "stream",
     "text": [
      "Epoch 1: 100%|██████████| 582/582 [12:32<00:00,  1.29s/it]\n"
     ]
    },
    {
     "name": "stdout",
     "output_type": "stream",
     "text": [
      "\n",
      "Classification Report:\n",
      "               precision    recall  f1-score   support\n",
      "\n",
      "      Vui vẻ       0.93      0.84      0.88       959\n",
      "    Tức giận       0.57      0.60      0.59       407\n",
      "     Buồn bã       0.50      0.56      0.53       298\n",
      "      Sợ hãi       0.53      0.92      0.67       112\n",
      "   Trung lập       0.71      0.64      0.67       551\n",
      "\n",
      "    accuracy                           0.72      2327\n",
      "   macro avg       0.65      0.71      0.67      2327\n",
      "weighted avg       0.74      0.72      0.73      2327\n",
      "\n",
      "Epoch 1: Train Loss: 2.8088, Train Acc: 0.5797, Valid Acc: 0.7207\n"
     ]
    },
    {
     "name": "stderr",
     "output_type": "stream",
     "text": [
      "Epoch 2: 100%|██████████| 582/582 [12:38<00:00,  1.30s/it]\n"
     ]
    },
    {
     "name": "stdout",
     "output_type": "stream",
     "text": [
      "\n",
      "Classification Report:\n",
      "               precision    recall  f1-score   support\n",
      "\n",
      "      Vui vẻ       0.95      0.84      0.89       959\n",
      "    Tức giận       0.58      0.62      0.60       407\n",
      "     Buồn bã       0.53      0.60      0.56       298\n",
      "      Sợ hãi       0.50      0.91      0.65       112\n",
      "   Trung lập       0.74      0.66      0.70       551\n",
      "\n",
      "    accuracy                           0.73      2327\n",
      "   macro avg       0.66      0.73      0.68      2327\n",
      "weighted avg       0.76      0.73      0.74      2327\n",
      "\n",
      "Epoch 2: Train Loss: 1.6253, Train Acc: 0.7392, Valid Acc: 0.7327\n"
     ]
    },
    {
     "name": "stderr",
     "output_type": "stream",
     "text": [
      "Epoch 3: 100%|██████████| 582/582 [12:38<00:00,  1.30s/it]\n"
     ]
    },
    {
     "name": "stdout",
     "output_type": "stream",
     "text": [
      "\n",
      "Classification Report:\n",
      "               precision    recall  f1-score   support\n",
      "\n",
      "      Vui vẻ       0.93      0.87      0.90       959\n",
      "    Tức giận       0.66      0.61      0.64       407\n",
      "     Buồn bã       0.54      0.70      0.61       298\n",
      "      Sợ hãi       0.65      0.88      0.75       112\n",
      "   Trung lập       0.73      0.68      0.70       551\n",
      "\n",
      "    accuracy                           0.76      2327\n",
      "   macro avg       0.70      0.75      0.72      2327\n",
      "weighted avg       0.77      0.76      0.76      2327\n",
      "\n",
      "Epoch 3: Train Loss: 1.3129, Train Acc: 0.7691, Valid Acc: 0.7589\n"
     ]
    }
   ],
   "source": [
    "train_model(model, train_loader, valid_loader, loss_fn, optimizer, scheduler, num_epochs=3)"
   ]
  },
  {
   "cell_type": "code",
   "execution_count": 9,
   "metadata": {
    "execution": {
     "iopub.execute_input": "2025-03-24T13:03:31.977255Z",
     "iopub.status.busy": "2025-03-24T13:03:31.976950Z",
     "iopub.status.idle": "2025-03-24T13:04:00.748829Z",
     "shell.execute_reply": "2025-03-24T13:04:00.748069Z",
     "shell.execute_reply.started": "2025-03-24T13:03:31.977233Z"
    },
    "trusted": true
   },
   "outputs": [
    {
     "name": "stdout",
     "output_type": "stream",
     "text": [
      "\n",
      "Testing on test set...\n",
      "\n",
      "Classification Report:\n",
      "               precision    recall  f1-score   support\n",
      "\n",
      "      Vui vẻ       0.94      0.89      0.91       960\n",
      "    Tức giận       0.62      0.57      0.60       407\n",
      "     Buồn bã       0.49      0.66      0.57       298\n",
      "      Sợ hãi       0.74      0.89      0.81       111\n",
      "   Trung lập       0.72      0.66      0.69       551\n",
      "\n",
      "    accuracy                           0.75      2327\n",
      "   macro avg       0.70      0.74      0.72      2327\n",
      "weighted avg       0.77      0.75      0.76      2327\n",
      "\n",
      "Test Accuracy: 0.7516\n"
     ]
    }
   ],
   "source": [
    "print(\"\\nTesting on test set...\")\n",
    "model.load_state_dict(torch.load(\"best_model.pt\"))  # Load model tốt nhất\n",
    "test_acc = evaluate(model, test_loader)\n",
    "print(f\"Test Accuracy: {test_acc:.4f}\")"
   ]
  },
  {
   "cell_type": "code",
   "execution_count": 10,
   "metadata": {
    "execution": {
     "iopub.execute_input": "2025-03-24T13:07:35.009850Z",
     "iopub.status.busy": "2025-03-24T13:07:35.009491Z",
     "iopub.status.idle": "2025-03-24T13:47:01.801098Z",
     "shell.execute_reply": "2025-03-24T13:47:01.800309Z",
     "shell.execute_reply.started": "2025-03-24T13:07:35.009825Z"
    },
    "trusted": true
   },
   "outputs": [
    {
     "name": "stderr",
     "output_type": "stream",
     "text": [
      "Epoch 1: 100%|██████████| 582/582 [12:39<00:00,  1.30s/it]\n"
     ]
    },
    {
     "name": "stdout",
     "output_type": "stream",
     "text": [
      "\n",
      "Classification Report:\n",
      "               precision    recall  f1-score   support\n",
      "\n",
      "      Vui vẻ       0.92      0.90      0.91       959\n",
      "    Tức giận       0.66      0.60      0.63       407\n",
      "     Buồn bã       0.54      0.75      0.62       298\n",
      "      Sợ hãi       0.74      0.85      0.79       112\n",
      "   Trung lập       0.75      0.65      0.70       551\n",
      "\n",
      "    accuracy                           0.77      2327\n",
      "   macro avg       0.72      0.75      0.73      2327\n",
      "weighted avg       0.78      0.77      0.77      2327\n",
      "\n",
      "Epoch 1: Train Loss: 1.0999, Train Acc: 0.7927, Valid Acc: 0.7654\n"
     ]
    },
    {
     "name": "stderr",
     "output_type": "stream",
     "text": [
      "Epoch 2: 100%|██████████| 582/582 [12:39<00:00,  1.30s/it]\n"
     ]
    },
    {
     "name": "stdout",
     "output_type": "stream",
     "text": [
      "\n",
      "Classification Report:\n",
      "               precision    recall  f1-score   support\n",
      "\n",
      "      Vui vẻ       0.92      0.89      0.91       959\n",
      "    Tức giận       0.66      0.60      0.63       407\n",
      "     Buồn bã       0.53      0.72      0.61       298\n",
      "      Sợ hãi       0.71      0.87      0.78       112\n",
      "   Trung lập       0.74      0.66      0.70       551\n",
      "\n",
      "    accuracy                           0.76      2327\n",
      "   macro avg       0.71      0.75      0.73      2327\n",
      "weighted avg       0.77      0.76      0.77      2327\n",
      "\n",
      "Epoch 2: Train Loss: 1.0235, Train Acc: 0.8002, Valid Acc: 0.7632\n"
     ]
    },
    {
     "name": "stderr",
     "output_type": "stream",
     "text": [
      "Epoch 3: 100%|██████████| 582/582 [12:38<00:00,  1.30s/it]\n"
     ]
    },
    {
     "name": "stdout",
     "output_type": "stream",
     "text": [
      "\n",
      "Classification Report:\n",
      "               precision    recall  f1-score   support\n",
      "\n",
      "      Vui vẻ       0.92      0.90      0.91       959\n",
      "    Tức giận       0.65      0.62      0.63       407\n",
      "     Buồn bã       0.55      0.72      0.62       298\n",
      "      Sợ hãi       0.72      0.88      0.79       112\n",
      "   Trung lập       0.76      0.64      0.70       551\n",
      "\n",
      "    accuracy                           0.76      2327\n",
      "   macro avg       0.72      0.75      0.73      2327\n",
      "weighted avg       0.77      0.76      0.77      2327\n",
      "\n",
      "Epoch 3: Train Loss: 1.0060, Train Acc: 0.8049, Valid Acc: 0.7649\n"
     ]
    }
   ],
   "source": [
    "train_model(model, train_loader, valid_loader, loss_fn, optimizer, scheduler, num_epochs=3)"
   ]
  },
  {
   "cell_type": "code",
   "execution_count": null,
   "metadata": {
    "execution": {
     "iopub.execute_input": "2025-03-24T14:16:35.012227Z",
     "iopub.status.busy": "2025-03-24T14:16:35.011872Z",
     "iopub.status.idle": "2025-03-24T14:17:05.538579Z",
     "shell.execute_reply": "2025-03-24T14:17:05.537704Z",
     "shell.execute_reply.started": "2025-03-24T14:16:35.012201Z"
    },
    "trusted": true
   },
   "outputs": [
    {
     "name": "stdout",
     "output_type": "stream",
     "text": [
      "\n",
      "Testing on test set...\n",
      "\n",
      "Classification Report:\n",
      "               precision    recall  f1-score   support\n",
      "\n",
      "      Vui vẻ       0.93      0.91      0.92       960\n",
      "    Tức giận       0.62      0.57      0.59       407\n",
      "     Buồn bã       0.48      0.67      0.56       298\n",
      "      Sợ hãi       0.80      0.88      0.84       111\n",
      "   Trung lập       0.74      0.64      0.69       551\n",
      "\n",
      "    accuracy                           0.75      2327\n",
      "   macro avg       0.71      0.73      0.72      2327\n",
      "weighted avg       0.77      0.75      0.76      2327\n",
      "\n",
      "Test Accuracy: 0.7529\n"
     ]
    }
   ],
   "source": [
    "print(\"\\nTesting on test set...\")\n",
    "model.load_state_dict(torch.load(\"best_model.pt\")) \n",
    "test_acc = evaluate(model, test_loader)\n",
    "print(f\"Test Accuracy: {test_acc:.4f}\")"
   ]
  },
  {
   "cell_type": "code",
   "execution_count": 12,
   "metadata": {
    "execution": {
     "iopub.execute_input": "2025-03-24T14:31:55.680698Z",
     "iopub.status.busy": "2025-03-24T14:31:55.680345Z",
     "iopub.status.idle": "2025-03-24T14:31:56.509239Z",
     "shell.execute_reply": "2025-03-24T14:31:56.508529Z",
     "shell.execute_reply.started": "2025-03-24T14:31:55.680671Z"
    },
    "trusted": true
   },
   "outputs": [
    {
     "name": "stdout",
     "output_type": "stream",
     "text": [
      "Model saved to /kaggle/working/phobert_sentiment_model.pth\n"
     ]
    }
   ],
   "source": [
    "model_path = \"/kaggle/working/phobert_sentiment_model.pth\"  \n",
    "torch.save(model.state_dict(), model_path)\n",
    "print(f\"Model saved to {model_path}\")"
   ]
  }
 ],
 "metadata": {
  "kaggle": {
   "accelerator": "nvidiaTeslaT4",
   "dataSources": [
    {
     "datasetId": 6929433,
     "sourceId": 11113893,
     "sourceType": "datasetVersion"
    },
    {
     "isSourceIdPinned": true,
     "modelId": 274973,
     "modelInstanceId": 253527,
     "sourceId": 296151,
     "sourceType": "modelInstanceVersion"
    }
   ],
   "dockerImageVersionId": 30919,
   "isGpuEnabled": true,
   "isInternetEnabled": true,
   "language": "python",
   "sourceType": "notebook"
  },
  "kernelspec": {
   "display_name": "Python 3",
   "language": "python",
   "name": "python3"
  },
  "language_info": {
   "codemirror_mode": {
    "name": "ipython",
    "version": 3
   },
   "file_extension": ".py",
   "mimetype": "text/x-python",
   "name": "python",
   "nbconvert_exporter": "python",
   "pygments_lexer": "ipython3",
   "version": "3.10.12"
  }
 },
 "nbformat": 4,
 "nbformat_minor": 4
}
